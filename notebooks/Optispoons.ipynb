{
 "cells": [
  {
   "cell_type": "code",
   "execution_count": null,
   "metadata": {
    "pycharm": {
     "name": "#%%\n"
    }
   },
   "outputs": [],
   "source": [
    "import requests\n",
    "import pandas as pd\n",
    "import numpy as np\n",
    "from collections import defaultdict"
   ]
  },
  {
   "cell_type": "code",
   "execution_count": null,
   "metadata": {
    "pycharm": {
     "name": "#%%\n"
    }
   },
   "outputs": [],
   "source": [
    "key = \"XXX\""
   ]
  },
  {
   "cell_type": "code",
   "execution_count": null,
   "metadata": {
    "pycharm": {
     "name": "#%%\n"
    }
   },
   "outputs": [],
   "source": [
    "%%bash\n",
    "\n",
    "curl 'https://api.jdwetherspoon.com/api/advancedsearch' \\\n",
    "  -H 'authority: api.jdwetherspoon.com' \\\n",
    "  -H 'accept: application/json, text/plain, */*' \\\n",
    "  -H 'accept-language: en-GB,en-US;q=0.9,en;q=0.8' \\\n",
    "  -H 'content-type: application/json;charset=UTF-8' \\\n",
    "  --data-raw '{\"region\":\"England\",\"paging\":{\"UsePagination\":false},\"facilities\":[],\"searchType\":0}' \\\n",
    "  --compressed"
   ]
  },
  {
   "cell_type": "code",
   "execution_count": null,
   "metadata": {
    "pycharm": {
     "name": "#%%\n"
    }
   },
   "outputs": [],
   "source": [
    "all_spoons = [\n",
    "    \"282, Mare Street, Hackney, London, E8 1HE\",\n",
    "    \"Victoria Island, Victoria Station, Westminster, London, SW1V 1JT\",\n",
    "    \"213-221, Mile End Road, Aldgate, London, E1 4AA\",\n",
    "    \"95, Chancery Lane, Strand, London, WC2A 1DT\",\n",
    "    \"159, High Street Wanstead, Leytonstone, London, E11 2RL\",\n",
    "    \"1-5, Upton Lane, Forest Gate, Forest Gate, London, E7 9PA\",\n",
    "    \"Ledger Building, 4, Hertsmere Road, Poplar, London, E14 4AL\",\n",
    "    \"407-409, Brixton Road, Stockwell, London, SW9 7DG\",\n",
    "    \"11-21, London Road, Forest Hill, London, SE23 3TW\",\n",
    "    \"Camden Wharf, 28, Jamestown Road, Camden Town, London, NW1 7BY\",\n",
    "    \"79 Wellington Street, Woolwich, London, SE18 6PQ\",\n",
    "    \"1 North Road, Highgate, London, N6 4BD\",\n",
    "    \"146-148, The Grove, Stratford, London, E15 1NS\",\n",
    "    \"No 1 Poultry, Liverpool Street, London, EC2R 8EJ\",\n",
    "    \"15, Trinity Square, Fenchurch Street, London, EC3N 4AA\",\n",
    "    \"9, Gracechurch Street, Fenchurch Street, London, EC3V 0DR\",\n",
    "    \"1327, London Road, Streatham, London, SW16 4AU\",\n",
    "    \"338-346, Holloway Road, Holloway, London, N7 6NJ\",\n",
    "    \"Unit 7, Station Approach, Marylebone Road, Camden Town, London, NW1 5LD\",\n",
    "    \"O2 Centre, 255 Finchley Road, Hampstead, London, NW3 6LU\",\n",
    "    \"Metro Central Heights, 119A Newington Causeway, Southwark, Waterloo, London, SE1 6BN\",\n",
    "    \"210 Creek Road, Greenwich, London, SE10 9RB\",\n",
    "    \"184, Brockley Road, Brockley, London, SE4 2RR\",\n",
    "    \"109, Rushey Green, Catford, London, SE6 4AF\",\n",
    "    \"Unit 3A Fulham Broadway Shopping Ce, Fulham Road, Fulham, London, SW6 1EP\",\n",
    "    \"Unit 4 West 12 Shopping Centre, The Broadway, Shepherd's Bush, Woodford, London, E18 1AH\",\n",
    "    \"580-586, Roman Road, Bow, London, E3 5ES\",\n",
    "    \"2935 Farringdon Road, Central, London, EC1M 3JF\",\n",
    "    \"251 255 Upper Street, Islington, London, N1 1RY\",\n",
    "    \"3-5, Islington High Street, Islington, London, N1 9LQ\",\n",
    "    \"198-204, Lewisham High Street, Lewisham, London, SE13 6JP\",\n",
    "    \"80-84, Chase Side, Southgate, London, N14 5PH\",\n",
    "    \"101 The Arcade, Stratford, London, E20 1EL\",\n",
    "    \"196, Tower Bridge Road, Waterloo, London, SE1 2UN\",\n",
    "    \"71 79 Peckham High Street, Peckham, London, SE15 5RS\",\n",
    "    \"31-33, Westow Street, Upper Norwood, London, SE19 3RW\",\n",
    "    \"1 13 Falcon Road, Battersea, London, SW11 2PL\",\n",
    "    \"107-109, Streatham High Road, Streatham, London, SW16 1HJ\",\n",
    "    \"Collingham House 6 12, Gladstone Road, Wimbledon, London, SW19 1QT\",\n",
    "    \"8, Coombe Lane, West Wimbledon, London, SW20 8ND\",\n",
    "    \"18-20, Edgware Road, Paddington, London, W2 2EN\",\n",
    "    \"124A King Street, Hammersmith, London, W6 9HW\",\n",
    "    \"Victoria Island, Victoria Station, Westminster, London, SW1V 1JT\",\n",
    "    \"105, Charing Cross Road, Strand, London, WC2H 0DT\",\n",
    "    \"557-559, Lea Bridge Road, Leyton, London, E10 7EQ\",\n",
    "    \"164-166, High Street, Anerley, London, SE20 7QS\",\n",
    "    \"56A, Tooting High Street, Tooting, London, SW17 0RN\",\n",
    "    \"22, Replingham Road, Wandsworth, London, SW18 5LS\",\n",
    "    \"50-56, Cricklewood Broadway, Cricklewood, London, NW2 3ET\",\n",
    "    \"10, Varley Parade, The Hyde, London, NW9 6RR\",\n",
    "    \"70, High Road, Woodford, London, E18 2QL\",\n",
    "    \"89, Mansell Street, Aldgate, London, E1 8AL\",\n",
    "    \"282284 Mare Street, Hackney, London, E8 1HE\",\n",
    "    \"Unit, The Concourse, 13-14, Liverpool Street Station, Liverpool Street, Liverpool Street, London, EC2M 7PY\",\n",
    "    \"168172 Old Street, Central, London, EC1V 9BP\",\n",
    "    \"2-2A, Streatham Hill, Brixton, London, SW2 4AH\",\n",
    "    \"149-153, Denmark Hill, Camberwell, London, SE5 8EH\",\n",
    "    \"145, Stoke Newington High Street, Stoke Newington, London, N16 0NY\",\n",
    "    \"18, Whitehall, Westminster, London, SW1A 2DY\",\n",
    "    \"124, Sedgmoor Place, Camberwell, London, SE5 7RT\",\n",
    "    \"419-421, Barking Road, East Ham, London, E6 2JX\",\n",
    "    \"281, High Street, Acton, London, W3 9BP\",\n",
    "    \"80, Eltham High Street, Eltham, London, SE9 1BW\",\n",
    "    \"553 Kingsbury Road, The Hyde, London, NW9 9EL\",\n",
    "    \"28, Leicester Square, Strand, London, WC2H 7LE\",\n",
    "    \"26-30, Turnpike Lane, Hornsey, London, N8 0PS\",\n",
    "    \"25, Burnt Ash Road, Lee, London, SE12 8RG\",\n",
    "    \"185, Lower Road, Rotherhithe, London, SE16 2LW\",\n",
    "    \"857-861, High Road Leytonstone, Leytonstone, London, E11 1HH\",\n",
    "    \"250252 Chingford Mount Road, Chingford, London, E4 8JL\",\n",
    "    \"125-127, Stroud Green Road, Finsbury Park, London, N4 3PX\",\n",
    "    \"2 4 King Street, Hammersmith, London, W6 0QA\",\n",
    "]\n",
    "\n",
    "def chunks(l, n):\n",
    "    \"\"\"Yield successive n-sized chunks from l.\"\"\"\n",
    "    for i in range(0, len(l), n):\n",
    "        yield l[i:i + n]"
   ]
  },
  {
   "cell_type": "code",
   "execution_count": null,
   "metadata": {
    "pycharm": {
     "name": "#%%\n"
    }
   },
   "outputs": [],
   "source": [
    "start_point = {\n",
    "    'Sienna Alto, 2 Cornmill Lane, London SE13 7FZ, UK': 'mark',\n",
    "    '25 Shoe Ln, London EC4A 4AU, UK': 'steveb',\n",
    "#     '204 Rodway Rd, Reading RG30 6EE, UK': 'stevef',\n",
    "    'Aragon Tower, George Beard Rd, London SE8 3AH, UK': 'matt',\n",
    "#     'Aragon Tower, George Beard Rd, London SE8 3AH, UK': 'julian',\n",
    "#     'Gleneldon Rd, Streatham, London SW16 2BH': 'stefan',\n",
    "    'Hepburn Court, Station Rd, Borehamwood WD6 1GR, UK': 'bergen',\n",
    "}\n",
    "\n",
    "# spoons = [\n",
    "#     'Liberty Bounds, 15 Trinity Square, London EC3N 4AA, UK',\n",
    "#     'The Angel, Angel Corner House, Islington High St, The Angel, London N1 9LQ',\n",
    "#     'Surrey Docks, 185 Lower Rd, Rotherhithe, London SE16 2LW',\n",
    "#     'Knights Templar, 95 Chancery Ln, Holborn, London WC2A 1DT',\n",
    "#     'Crosse Keys, 9 Gracechurch St, London EC3V 0DR',\n",
    "#     'Goodmans Field, 89 Mansell St, London E1 8AN',\n",
    "#     'Pommelers Rest, 196-198 Tower Bridge Rd, London SE1 2UN',\n",
    "#     'The Metropolitan Bar, 7 Station Approach, Marylebone Rd, Marylebone, London NW1 5LA',\n",
    "#     'Shakespeares Head, Africa House, 64-68 Kingsway, Holborn, London WC2B 6BG',\n",
    "#     'Pendrals Oak, 283-288 High Holborn, Holborn, London WC1V 7HP',\n",
    "#     'The Lord Moon of The Mall, 16-18 Whitehall, Westminster, London SW1A 2DY',\n",
    "#     'The Postal Order, Crystal Palace, 32-33 Westow St, Upper Norwood, London SE19 3RW',\n",
    "#     'The Liberty Bounds, 15 Trinity Square, London EC3N 4AA',\n",
    "# ]\n",
    "\n",
    "end_point = {\n",
    "    'Sienna Alto, 2 Cornmill Lane, London SE13 7FZ, UK': 'mark',    \n",
    "    '55 Mirabelle Gardens, East Village, London E20 1BU, UK': 'steveb',\n",
    "#     '204 Rodway Rd, Reading RG30 6EE, UK': 'stevef',\n",
    "    'Aragon Tower, George Beard Rd, London SE8 3AH, UK': 'matt',\n",
    "#     'Aragon Tower, George Beard Rd, London SE8 3AH, UK': 'julian',\n",
    "#     'Gleneldon Rd, Streatham, London SW16 2BH': 'stefan',\n",
    "    'Hepburn Court, Station Rd, Borehamwood WD6 1GR, UK': 'bergen',\n",
    "}\n",
    "\n",
    "\n",
    "# origins = {\n",
    "#     'Sienna Alto, 2 Cornmill Lane, London SE13 7FZ, UK': 'mark',\n",
    "#     '25 Shoe Ln, London EC4A 4AU, UK': 'steveb',\n",
    "#     '9 Lower Armour Rd, Tilehurst, Reading RG31 6HH, UK ': 'stevef',\n",
    "#     'Aragon Tower, George Beard Rd, London SE8 3AH': 'matt',\n",
    "#     'Aragon Tower, George Beard Rd, London SE8 3AH, UK': 'julian',\n",
    "# #     'Gleneldon Rd, Streatham, London SW16 2BH': 'stefan',\n",
    "# #     'Boreham Holt, Elstree, Borehamwood WD6 3QF': 'bergen',\n",
    "# }"
   ]
  },
  {
   "cell_type": "code",
   "execution_count": null,
   "metadata": {
    "pycharm": {
     "name": "#%%\n"
    }
   },
   "outputs": [],
   "source": [
    "travel_mode = \"transit\"\n",
    "spoons_times = defaultdict(lambda: defaultdict(int))\n",
    "\n",
    "for spoons in chunks(all_spoons, 10):\n",
    "    origins = start_point\n",
    "    dests = spoons\n",
    "    base_url = \"https://maps.googleapis.com/maps/api/distancematrix/json\"    \n",
    "    url = f\"{base_url}?units=imperial&mode={travel_mode}&origins={'|'.join(origins)}&destinations={'|'.join(dests)}&key={key}\"\n",
    "    response = requests.get(url).json()\n",
    "\n",
    "\n",
    "    for origin, row in zip(origins, response['rows']):\n",
    "        for dest, duration in zip(dests, [elem['duration']['value'] for elem in row['elements']]):\n",
    "            print(origin, ' -> ', dest, ' : ', duration / 60)\n",
    "            spoons_times[dest][origins[origin]] += duration / 60\n",
    "\n",
    "    origins = spoons\n",
    "    dests = end_point            \n",
    "            \n",
    "    base_url = \"https://maps.googleapis.com/maps/api/distancematrix/json\"\n",
    "    url = f\"{base_url}?units=imperial&mode={travel_mode}&origins={'|'.join(origins)}&destinations={'|'.join(dests)}&key={key}\"\n",
    "\n",
    "    response = requests.get(url).json()\n",
    "\n",
    "\n",
    "    for origin, row in zip(origins, response['rows']):\n",
    "        for dest, duration in zip(dests, [elem['duration']['value'] for elem in row['elements']]):\n",
    "            print(origin, ' -> ', dest, ' : ', duration / 60)\n",
    "            spoons_times[origin][dests[dest]] += duration / 60"
   ]
  },
  {
   "cell_type": "code",
   "execution_count": null,
   "metadata": {
    "pycharm": {
     "name": "#%%\n"
    }
   },
   "outputs": [],
   "source": [
    "pd.DataFrame.from_records(list(spoons_times.values())).describe()"
   ]
  },
  {
   "cell_type": "code",
   "execution_count": null,
   "metadata": {
    "pycharm": {
     "name": "#%%\n"
    }
   },
   "outputs": [],
   "source": [
    "results = []\n",
    "for venue, times in spoons_times.items():\n",
    "    print(venue, times)\n",
    "    print(venue)\n",
    "    print('\\t', sum(np.array(list(times.values())) ** 2))\n",
    "    results.append((venue, sum(np.array(list(times.values())) ** 2)))"
   ]
  },
  {
   "cell_type": "code",
   "execution_count": null,
   "metadata": {
    "pycharm": {
     "name": "#%%\n"
    }
   },
   "outputs": [],
   "source": [
    "pd.DataFrame(results, columns=['Address', 'Score (Lower Better)']).sort_values('Score (Lower Better)').head(8).reset_index(drop=True)"
   ]
  },
  {
   "cell_type": "code",
   "execution_count": null,
   "metadata": {
    "pycharm": {
     "name": "#%%\n"
    }
   },
   "outputs": [],
   "source": [
    "for i, (venue, cost) in enumerate(sorted(results, key=lambda kv: kv[1])):\n",
    "    print(i+1, venue, cost)"
   ]
  }
 ],
 "metadata": {
  "kernelspec": {
   "display_name": "Python 3 (ipykernel)",
   "language": "python",
   "name": "python3"
  },
  "language_info": {
   "codemirror_mode": {
    "name": "ipython",
    "version": 3
   },
   "file_extension": ".py",
   "mimetype": "text/x-python",
   "name": "python",
   "nbconvert_exporter": "python",
   "pygments_lexer": "ipython3",
   "version": "3.10.4"
  }
 },
 "nbformat": 4,
 "nbformat_minor": 2
}